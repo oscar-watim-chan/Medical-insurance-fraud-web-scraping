{
 "cells": [
  {
   "cell_type": "markdown",
   "metadata": {},
   "source": [
    "# Medical insurance fraud case scraping \n",
    "## Criminal and Civil Enforcement (Current update)\n",
    "\n",
    "The objective of this notebook is to scrape the current medical fraud court cases reported in the United States Office of Inspector General index page (https://oig.hhs.gov/fraud/enforcement/criminal/index.asp). The idea is to scrape all the news content on the latest news page, compared to the most recent date of news saved last time (stored in `Raw/Criminal and Civil Enforcement - most recent.txt` and updated automatically each time) and only keep the news later than the date saved.\n",
    "\n",
    "This notebook is supposed to be run repeatedly."
   ]
  },
  {
   "cell_type": "markdown",
   "metadata": {},
   "source": [
    "## Initialization"
   ]
  },
  {
   "cell_type": "code",
   "execution_count": 1,
   "metadata": {},
   "outputs": [],
   "source": [
    "from urllib.request import urlopen\n",
    "from bs4 import BeautifulSoup, NavigableString, Tag\n",
    "import pandas as pd\n",
    "import re\n",
    "import os\n",
    "\n",
    "from datetime import datetime\n",
    "from datetime import date"
   ]
  },
  {
   "cell_type": "code",
   "execution_count": 2,
   "metadata": {},
   "outputs": [],
   "source": [
    "# Extract the description part including <br>, as sometimes the description has more than one paragraph\n",
    "\n",
    "def get_text_with_br(tag, result=''):\n",
    "    for x in tag.contents:\n",
    "        if isinstance(x, Tag):  # check if content is a tag\n",
    "            if x.name == 'br':  # if tag is <br> append it as string\n",
    "                result += str(x)\n",
    "            else:  # for any other tag, recurse\n",
    "                result = get_text_with_br(x, result)\n",
    "        else:  # if content is NavigableString (string), append\n",
    "            result += x\n",
    "\n",
    "    return result"
   ]
  },
  {
   "cell_type": "code",
   "execution_count": 3,
   "metadata": {},
   "outputs": [],
   "source": [
    "# Define directories\n",
    "section = 'Criminal and Civil Enforcement'\n",
    "raw_data_directory = 'Raw/'"
   ]
  },
  {
   "cell_type": "markdown",
   "metadata": {},
   "source": [
    "## Extract the current enforcement action news and store in a panda dataframe for further mainpulation"
   ]
  },
  {
   "cell_type": "code",
   "execution_count": 4,
   "metadata": {},
   "outputs": [],
   "source": [
    "# Initialize the dataframe setting (Independent arrays)\n",
    "\n",
    "section = 'Criminal and Civil Enforcement'\n",
    "count = 0\n",
    "\n",
    "OIG_df_section = []\n",
    "OIG_df_date = []\n",
    "OIG_df_dept = []\n",
    "OIG_df_geog_subdivision = []\n",
    "OIG_df_MFStrikeForce_tag = []\n",
    "OIG_df_heading = []\n",
    "OIG_df_description = []\n",
    "OIG_df_hyperlink = []    "
   ]
  },
  {
   "cell_type": "code",
   "execution_count": 5,
   "metadata": {},
   "outputs": [],
   "source": [
    "# Scrape the page for the most recent enforcement news\n",
    "\n",
    "url = \"https://oig.hhs.gov/fraud/enforcement/criminal/index.asp\"    #Page for most current news\n",
    "current_DB = urlopen(url)\n",
    "res = BeautifulSoup(current_DB, \"html.parser\")"
   ]
  },
  {
   "cell_type": "code",
   "execution_count": 6,
   "metadata": {},
   "outputs": [],
   "source": [
    "# Process the data. Classify into respective column arrays\n",
    "\n",
    "info = res.findAll('dl', {'class':'criminal_report'})\n",
    "\n",
    "for count in range(0, len(info)):\n",
    "    for i in info[count].findAll('dt'):\n",
    "        if i.find('img', {'alt':'Medicare Fraud Strike Force Case'})!= None:     # Marked as Medicare Fraud Strike Force case\n",
    "            OIG_df_MFStrikeForce_tag.append(1)\n",
    "        else:\n",
    "            OIG_df_MFStrikeForce_tag.append(0)\n",
    "\n",
    "        # Extract heading information\n",
    "        Information = i.get_text().strip().split(\"; \")\n",
    "        while len(Information) <3:\n",
    "            Information.append('')\n",
    "        OIG_df_section.append(section)\n",
    "        \n",
    "        \n",
    "        #Pre-processing of heading information\n",
    "        daylist = ['Sunday', 'Monday', 'Tuesday', 'Wednesday', 'Thursday','Friday', 'Saturday']\n",
    "        for day in daylist:\n",
    "            replace_string = day + ', '\n",
    "            Information[0]=Information[0].replace(replace_string, '')\n",
    "\n",
    "        \n",
    "        #If missing date due to combined heading (e.g. One day with two reports, same heading)\n",
    "        if Information[0]=='':\n",
    "            Information[0] = OIG_df_date[len(OIG_df_date)-1]  # The previous record\n",
    "        \n",
    "        # Handle missing year problem\n",
    "        year_search = re.search(', [0-9][0-9][0-9][0-9]', Information[0])\n",
    "        if year_search is None:\n",
    "            currentYear = datetime.now().year\n",
    "            Information[0] = Information[0] + ', ' + str(currentYear)\n",
    "        \n",
    "        # Append date, department, geog subdivision\n",
    "        if len(Information[0].split(','))!=3:\n",
    "            OIG_df_date.append(Information[0])      \n",
    "            OIG_df_dept.append(Information[1])\n",
    "            OIG_df_geog_subdivision.append(Information[2])\n",
    "        else:\n",
    "            OIG_df_date.append(Information[0].split(',')[0] + ',' + Information[0].split(',')[1])      \n",
    "            OIG_df_dept.append(Information[0].split(',')[2])\n",
    "            OIG_df_geog_subdivision.append(Information[2])\n",
    "        \n",
    "        \n",
    "        \n",
    "            \n",
    "    for j in info[count].findAll('dd'):\n",
    "        hyperlink_set = ''\n",
    "        for link in j.findAll('a'):\n",
    "            h = link.get('href')\n",
    "            if len(hyperlink_set) == 0:\n",
    "                hyperlink_set = hyperlink_set + h\n",
    "            else:\n",
    "                hyperlink_set = hyperlink_set + ', ' + h\n",
    "        OIG_df_hyperlink.append(hyperlink_set)\n",
    "        \n",
    "        \n",
    "        j = get_text_with_br(j)  # Keep the <br/> tag in the scraped html code\n",
    "        locate = j.find(\"<br\")\n",
    "        if locate>=0:\n",
    "            Heading = j[0: locate]\n",
    "            Description = j[locate+5:]\n",
    "            \n",
    "            replace_list = ['\\r', '\\n', '\\t']\n",
    "            for char in replace_list:\n",
    "                Heading = Heading.replace(char ,'')\n",
    "                Description = Description.replace(char,'')     \n",
    "    \n",
    "        else:\n",
    "            Heading = j\n",
    "            Description = ''\n",
    "\n",
    "        OIG_df_heading.append(Heading)\n",
    "        OIG_df_description.append(Description)\n",
    "        #print(len(OIG_df_heading), len(OIG_df_date))"
   ]
  },
  {
   "cell_type": "code",
   "execution_count": 7,
   "metadata": {},
   "outputs": [],
   "source": [
    "## Export to data frame that can be further manipulated\n",
    "df_info = pd.DataFrame()\n",
    "df_info['Section'] = OIG_df_section\n",
    "df_info['Date'] = OIG_df_date\n",
    "df_info['Authority'] = OIG_df_dept\n",
    "df_info['Geographical subdivision'] = OIG_df_geog_subdivision\n",
    "df_info['Medicare Fraud Strike Force case'] = OIG_df_MFStrikeForce_tag \n",
    "df_info['Heading'] = OIG_df_heading\n",
    "df_info['Description'] = OIG_df_description\n",
    "df_info['Hyperlink'] = OIG_df_hyperlink"
   ]
  },
  {
   "cell_type": "code",
   "execution_count": 8,
   "metadata": {},
   "outputs": [
    {
     "data": {
      "text/html": [
       "<div>\n",
       "<style scoped>\n",
       "    .dataframe tbody tr th:only-of-type {\n",
       "        vertical-align: middle;\n",
       "    }\n",
       "\n",
       "    .dataframe tbody tr th {\n",
       "        vertical-align: top;\n",
       "    }\n",
       "\n",
       "    .dataframe thead th {\n",
       "        text-align: right;\n",
       "    }\n",
       "</style>\n",
       "<table border=\"1\" class=\"dataframe\">\n",
       "  <thead>\n",
       "    <tr style=\"text-align: right;\">\n",
       "      <th></th>\n",
       "      <th>Section</th>\n",
       "      <th>Date</th>\n",
       "      <th>Authority</th>\n",
       "      <th>Geographical subdivision</th>\n",
       "      <th>Medicare Fraud Strike Force case</th>\n",
       "      <th>Heading</th>\n",
       "      <th>Description</th>\n",
       "      <th>Hyperlink</th>\n",
       "    </tr>\n",
       "  </thead>\n",
       "  <tbody>\n",
       "    <tr>\n",
       "      <th>0</th>\n",
       "      <td>Criminal and Civil Enforcement</td>\n",
       "      <td>August 27, 2020</td>\n",
       "      <td>U.S. Attorney's Office, District of New Jersey</td>\n",
       "      <td></td>\n",
       "      <td>0</td>\n",
       "      <td>New Jersey Electronic Health Records Company t...</td>\n",
       "      <td>NEWARK, N.J. - An electronic health records co...</td>\n",
       "      <td>https://go.usa.gov/xGCxj</td>\n",
       "    </tr>\n",
       "    <tr>\n",
       "      <th>1</th>\n",
       "      <td>Criminal and Civil Enforcement</td>\n",
       "      <td>August 26, 2020</td>\n",
       "      <td>U.S. Attorney's Office, District of New Jersey</td>\n",
       "      <td></td>\n",
       "      <td>0</td>\n",
       "      <td>Camden County Man Admits Role in Government Be...</td>\n",
       "      <td>CAMDEN, N.J. - A Camden, New Jersey, man today...</td>\n",
       "      <td>https://go.usa.gov/xGxun</td>\n",
       "    </tr>\n",
       "    <tr>\n",
       "      <th>2</th>\n",
       "      <td>Criminal and Civil Enforcement</td>\n",
       "      <td>August 26, 2020</td>\n",
       "      <td>U.S. Attorney's Office, District of New Jersey</td>\n",
       "      <td></td>\n",
       "      <td>0</td>\n",
       "      <td>Fourth Person Admits Trafficking High-Dosage O...</td>\n",
       "      <td>CAMDEN, N.J. - A Camden County, New Jersey, ma...</td>\n",
       "      <td>https://go.usa.gov/xGxJa</td>\n",
       "    </tr>\n",
       "    <tr>\n",
       "      <th>3</th>\n",
       "      <td>Criminal and Civil Enforcement</td>\n",
       "      <td>August 25, 2020</td>\n",
       "      <td>U.S. Attorney's Office, Eastern District of Ke...</td>\n",
       "      <td></td>\n",
       "      <td>0</td>\n",
       "      <td>Floyd County Dentist Pleads Guilty to Health C...</td>\n",
       "      <td>FRANKFORT, Ky.- A McDowell, Ky., man, Denver D...</td>\n",
       "      <td>https://go.usa.gov/xGcfP</td>\n",
       "    </tr>\n",
       "    <tr>\n",
       "      <th>4</th>\n",
       "      <td>Criminal and Civil Enforcement</td>\n",
       "      <td>August 25, 2020</td>\n",
       "      <td>U.S. Attorney's Office, Southern District of T...</td>\n",
       "      <td></td>\n",
       "      <td>0</td>\n",
       "      <td>Pain doctor pays to settle allegations of dece...</td>\n",
       "      <td>HOUSTON - A 52-year-old pain management physic...</td>\n",
       "      <td>https://go.usa.gov/xGcft</td>\n",
       "    </tr>\n",
       "    <tr>\n",
       "      <th>5</th>\n",
       "      <td>Criminal and Civil Enforcement</td>\n",
       "      <td>August 24, 2020</td>\n",
       "      <td>Department of Justice</td>\n",
       "      <td></td>\n",
       "      <td>0</td>\n",
       "      <td>DUSA Pharmaceuticals To Pay U.S. $20.75 Millio...</td>\n",
       "      <td>Massachusetts-based DUSA Pharmaceuticals, Inc....</td>\n",
       "      <td>https://go.usa.gov/xG3UQ</td>\n",
       "    </tr>\n",
       "    <tr>\n",
       "      <th>6</th>\n",
       "      <td>Criminal and Civil Enforcement</td>\n",
       "      <td>August 21, 2020</td>\n",
       "      <td>U.S. Attorney's Office, Southern District of G...</td>\n",
       "      <td></td>\n",
       "      <td>0</td>\n",
       "      <td>Government obtains more than $5 million in jud...</td>\n",
       "      <td>BRUNSWICK, GA:  A Brunswick, Ga. chiropractor ...</td>\n",
       "      <td>https://go.usa.gov/xGqUN</td>\n",
       "    </tr>\n",
       "    <tr>\n",
       "      <th>7</th>\n",
       "      <td>Criminal and Civil Enforcement</td>\n",
       "      <td>August 21, 2020</td>\n",
       "      <td>U.S. Attorney's Office, Eastern District of Ne...</td>\n",
       "      <td></td>\n",
       "      <td>0</td>\n",
       "      <td>Former Queens Cardiologist Settles Civil Fraud...</td>\n",
       "      <td>Ghanshyam Bhambhani, a former Queens cardiolog...</td>\n",
       "      <td>https://go.usa.gov/xGqUs</td>\n",
       "    </tr>\n",
       "    <tr>\n",
       "      <th>8</th>\n",
       "      <td>Criminal and Civil Enforcement</td>\n",
       "      <td>August 20, 2020</td>\n",
       "      <td>U.S. Attorney's Office</td>\n",
       "      <td>Northern District of Texas</td>\n",
       "      <td>0</td>\n",
       "      <td>NextHealth Marketer Charged in $60 Million Kic...</td>\n",
       "      <td>A pharmacy marketer who allegedly collected mo...</td>\n",
       "      <td>https://go.usa.gov/xfSaX</td>\n",
       "    </tr>\n",
       "    <tr>\n",
       "      <th>9</th>\n",
       "      <td>Criminal and Civil Enforcement</td>\n",
       "      <td>August 19, 2020</td>\n",
       "      <td>U.S. Attorney's Office, Northern District of W...</td>\n",
       "      <td></td>\n",
       "      <td>0</td>\n",
       "      <td>West Virginia physician indicted for illegally...</td>\n",
       "      <td>CLARKSBURG, WEST VIRGINIA - Dr. Felix Brizuela...</td>\n",
       "      <td>https://go.usa.gov/xfuS9</td>\n",
       "    </tr>\n",
       "  </tbody>\n",
       "</table>\n",
       "</div>"
      ],
      "text/plain": [
       "                          Section             Date  \\\n",
       "0  Criminal and Civil Enforcement  August 27, 2020   \n",
       "1  Criminal and Civil Enforcement  August 26, 2020   \n",
       "2  Criminal and Civil Enforcement  August 26, 2020   \n",
       "3  Criminal and Civil Enforcement  August 25, 2020   \n",
       "4  Criminal and Civil Enforcement  August 25, 2020   \n",
       "5  Criminal and Civil Enforcement  August 24, 2020   \n",
       "6  Criminal and Civil Enforcement  August 21, 2020   \n",
       "7  Criminal and Civil Enforcement  August 21, 2020   \n",
       "8  Criminal and Civil Enforcement  August 20, 2020   \n",
       "9  Criminal and Civil Enforcement  August 19, 2020   \n",
       "\n",
       "                                           Authority  \\\n",
       "0     U.S. Attorney's Office, District of New Jersey   \n",
       "1     U.S. Attorney's Office, District of New Jersey   \n",
       "2     U.S. Attorney's Office, District of New Jersey   \n",
       "3  U.S. Attorney's Office, Eastern District of Ke...   \n",
       "4  U.S. Attorney's Office, Southern District of T...   \n",
       "5                              Department of Justice   \n",
       "6  U.S. Attorney's Office, Southern District of G...   \n",
       "7  U.S. Attorney's Office, Eastern District of Ne...   \n",
       "8                             U.S. Attorney's Office   \n",
       "9  U.S. Attorney's Office, Northern District of W...   \n",
       "\n",
       "     Geographical subdivision  Medicare Fraud Strike Force case  \\\n",
       "0                                                             0   \n",
       "1                                                             0   \n",
       "2                                                             0   \n",
       "3                                                             0   \n",
       "4                                                             0   \n",
       "5                                                             0   \n",
       "6                                                             0   \n",
       "7                                                             0   \n",
       "8  Northern District of Texas                                 0   \n",
       "9                                                             0   \n",
       "\n",
       "                                             Heading  \\\n",
       "0  New Jersey Electronic Health Records Company t...   \n",
       "1  Camden County Man Admits Role in Government Be...   \n",
       "2  Fourth Person Admits Trafficking High-Dosage O...   \n",
       "3  Floyd County Dentist Pleads Guilty to Health C...   \n",
       "4  Pain doctor pays to settle allegations of dece...   \n",
       "5  DUSA Pharmaceuticals To Pay U.S. $20.75 Millio...   \n",
       "6  Government obtains more than $5 million in jud...   \n",
       "7  Former Queens Cardiologist Settles Civil Fraud...   \n",
       "8  NextHealth Marketer Charged in $60 Million Kic...   \n",
       "9  West Virginia physician indicted for illegally...   \n",
       "\n",
       "                                         Description                 Hyperlink  \n",
       "0  NEWARK, N.J. - An electronic health records co...  https://go.usa.gov/xGCxj  \n",
       "1  CAMDEN, N.J. - A Camden, New Jersey, man today...  https://go.usa.gov/xGxun  \n",
       "2  CAMDEN, N.J. - A Camden County, New Jersey, ma...  https://go.usa.gov/xGxJa  \n",
       "3  FRANKFORT, Ky.- A McDowell, Ky., man, Denver D...  https://go.usa.gov/xGcfP  \n",
       "4  HOUSTON - A 52-year-old pain management physic...  https://go.usa.gov/xGcft  \n",
       "5  Massachusetts-based DUSA Pharmaceuticals, Inc....  https://go.usa.gov/xG3UQ  \n",
       "6  BRUNSWICK, GA:  A Brunswick, Ga. chiropractor ...  https://go.usa.gov/xGqUN  \n",
       "7  Ghanshyam Bhambhani, a former Queens cardiolog...  https://go.usa.gov/xGqUs  \n",
       "8  A pharmacy marketer who allegedly collected mo...  https://go.usa.gov/xfSaX  \n",
       "9  CLARKSBURG, WEST VIRGINIA - Dr. Felix Brizuela...  https://go.usa.gov/xfuS9  "
      ]
     },
     "execution_count": 8,
     "metadata": {},
     "output_type": "execute_result"
    }
   ],
   "source": [
    "## Before further formatting, etc. checking the most recent records to see if the extraction has any problem, \n",
    "## like whether the format has changed, etc.\n",
    "df_info.head(10)"
   ]
  },
  {
   "cell_type": "code",
   "execution_count": 9,
   "metadata": {},
   "outputs": [
    {
     "name": "stdout",
     "output_type": "stream",
     "text": [
      "DUSA Pharmaceuticals To Pay U.S. $20.75 Million To Settle False Claims Act Allegations Relating To Promotion Of Unsupported Drug Administration Process\n",
      "https://go.usa.gov/xG3UQ\n"
     ]
    }
   ],
   "source": [
    "## For illustration purpose only\n",
    "## For some reasons the Github preview page is showing something different from the output of Jupyter notebook, so I put it here again\n",
    "\n",
    "print(df_info['Heading'][5])\n",
    "print(df_info['Hyperlink'][5])"
   ]
  },
  {
   "cell_type": "code",
   "execution_count": 10,
   "metadata": {},
   "outputs": [],
   "source": [
    "## Date formatting\n",
    "df_info['Date'] = pd.to_datetime(df_info['Date'])  "
   ]
  },
  {
   "cell_type": "markdown",
   "metadata": {},
   "source": [
    "## Drop the irrelevant enforcement news (e.g. already appears before, or not in appropriate time range); and update the text file recording the most recent date in the existing datasets."
   ]
  },
  {
   "cell_type": "code",
   "execution_count": 11,
   "metadata": {},
   "outputs": [],
   "source": [
    "# File storing most recent date\n",
    "most_recent_date_file = section + ' - most recent.txt'"
   ]
  },
  {
   "cell_type": "code",
   "execution_count": 12,
   "metadata": {},
   "outputs": [
    {
     "name": "stdout",
     "output_type": "stream",
     "text": [
      "2019-12-31\n"
     ]
    }
   ],
   "source": [
    "## Read what is the most recent date\n",
    "with open(raw_data_directory + most_recent_date_file) as file_most_recent:\n",
    "    head = file_most_recent.readlines()[0:1]    ## Only store the first line\n",
    "most_recent_date = head[0]\n",
    "print(most_recent_date)\n",
    "\n",
    "## Drop if the new news collected is earlier than the most recent date in the existing dataset\n",
    "df_info = df_info[df_info['Date']>most_recent_date]"
   ]
  },
  {
   "cell_type": "code",
   "execution_count": 13,
   "metadata": {},
   "outputs": [
    {
     "name": "stdout",
     "output_type": "stream",
     "text": [
      "2020-08-27\n"
     ]
    }
   ],
   "source": [
    "## Update the most recent date in the recording text file \n",
    "\n",
    "\n",
    "try:\n",
    "    date = datetime.strftime(df_info['Date'].max().date(),'%Y-%m-%d')\n",
    "except:\n",
    "    date = date.today().strftime('%Y-%m-%d') \n",
    "\n",
    "with open(raw_data_directory + most_recent_date_file, \"w\") as file_most_recent:\n",
    "    file_most_recent.write(date)    # by replacing the original date\n",
    "\n",
    "print(date)"
   ]
  },
  {
   "cell_type": "code",
   "execution_count": 14,
   "metadata": {},
   "outputs": [
    {
     "name": "stdout",
     "output_type": "stream",
     "text": [
      "[2020]\n",
      "OIG_HHS_Scrape_2020_raw.csv created\n"
     ]
    }
   ],
   "source": [
    "# To check if there is more than one year involved in the new record (e.g. When updating in early January mixing with some records in late December last year)\n",
    "year_unique_record = df_info['Date'].dt.year.unique() #Unique values of year in the dataset  (e.g.: Maybe a mix of 2018 or 2019)\n",
    "print(year_unique_record)\n",
    "\n",
    "for year_pointer in range(0, len(year_unique_record)) :\n",
    "    year_current = str(year_unique_record[year_pointer])\n",
    "    if  os.path.isfile(raw_data_directory + 'OIG_HHS_Scrape_' + year_current + '_raw.csv') == True:\n",
    "        df_info.to_csv(raw_data_directory + 'OIG_HHS_Scrape_' + year_current + '_raw.csv', header=False, mode = 'a')   # Append if already exists\n",
    "        print( 'OIG_HHS_Scrape_' + year_current + '_raw.csv updated')\n",
    "    else:\n",
    "        df_info.to_csv(raw_data_directory + 'OIG_HHS_Scrape_' + year_current + '_raw.csv')  # Create a new files\n",
    "        print( 'OIG_HHS_Scrape_' + year_current + '_raw.csv created')"
   ]
  }
 ],
 "metadata": {
  "kernelspec": {
   "display_name": "Python 3",
   "language": "python",
   "name": "python3"
  },
  "language_info": {
   "codemirror_mode": {
    "name": "ipython",
    "version": 3
   },
   "file_extension": ".py",
   "mimetype": "text/x-python",
   "name": "python",
   "nbconvert_exporter": "python",
   "pygments_lexer": "ipython3",
   "version": "3.6.4"
  }
 },
 "nbformat": 4,
 "nbformat_minor": 2
}
