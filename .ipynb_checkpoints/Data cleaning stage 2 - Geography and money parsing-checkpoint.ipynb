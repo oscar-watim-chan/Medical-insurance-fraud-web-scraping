{
 "cells": [
  {
   "cell_type": "code",
   "execution_count": 1,
   "metadata": {},
   "outputs": [],
   "source": [
    "import geograpy\n",
    "import pandas\n",
    "import numpy as np\n",
    "import re"
   ]
  },
  {
   "cell_type": "markdown",
   "metadata": {},
   "source": [
    "## Check if hyperlink exists"
   ]
  },
  {
   "cell_type": "code",
   "execution_count": 2,
   "metadata": {},
   "outputs": [],
   "source": [
    "import requests\n",
    "import urllib\n",
    "\n",
    "def test_hyperlink(link):\n",
    "    if link[0:4] == \"http\":\n",
    "        try:\n",
    "            request=urllib.request.urlopen(link)\n",
    "            if request.code == 200:    #Website exists\n",
    "                return 1\n",
    "            else:                             #Website does not work\n",
    "                return 0\n",
    "        except urllib.error.HTTPError as e:\n",
    "            return 0\n",
    "        except urllib.error.URLError as e:\n",
    "            return 0"
   ]
  },
  {
   "cell_type": "markdown",
   "metadata": {},
   "source": [
    "## Self-defined function for extracting geographical location & money involved from news description"
   ]
  },
  {
   "cell_type": "code",
   "execution_count": 3,
   "metadata": {},
   "outputs": [],
   "source": [
    "## Try several versions of location extraction\n",
    "\n",
    "\n",
    "def simple_location_extract(desc):\n",
    "    if (desc.find('-')>0) & (desc.find('-')<18):\n",
    "        return desc.split('-')[0]\n",
    "    else:\n",
    "        return ''"
   ]
  },
  {
   "cell_type": "code",
   "execution_count": 4,
   "metadata": {},
   "outputs": [],
   "source": [
    "## Try location scraper\n",
    "\n",
    "def geo_cities_extract(desc):\n",
    "     return geograpy.get_place_context(text = desc).cities"
   ]
  },
  {
   "cell_type": "code",
   "execution_count": 5,
   "metadata": {},
   "outputs": [],
   "source": [
    "def geo_regions_extract(desc):\n",
    "     return geograpy.get_place_context(text = desc).regions"
   ]
  },
  {
   "cell_type": "code",
   "execution_count": 6,
   "metadata": {},
   "outputs": [],
   "source": [
    "## Try place scraper\n",
    "\n",
    "def geo_places_extract(desc):\n",
    "     return geograpy.get_place_context(text = desc).places"
   ]
  },
  {
   "cell_type": "code",
   "execution_count": 7,
   "metadata": {},
   "outputs": [],
   "source": [
    "# Extract money involved or punishment amount\n",
    "\n",
    "def money_involved(desc):\n",
    "    regex = r\"(?:[\\£\\$\\€]{1}[,\\d]+.?\\d*)\"  \n",
    "    list_of_units = ['thousand', 'million', 'billion', 'Thousand', 'Million', 'Billion', 'M']    \n",
    "    \n",
    "    matches = re.finditer(regex, desc)\n",
    "    \n",
    "    money_array = []\n",
    "    for x in matches:\n",
    "        startpt = x.start()\n",
    "        endpt = x.end()\n",
    "        money = str(x.group())\n",
    "        \n",
    "        money = re.sub('[^0-9a-zA-Z\\.]+', '', money)\n",
    "        \n",
    "        # Add back quantifying units such as 'thousand'/'million/ etc'\n",
    "        for unit in list_of_units:\n",
    "            if len(desc[endpt:]) >= len(unit):\n",
    "                if (desc[endpt:endpt+len(unit)] == unit) or (desc[endpt+1:endpt+len(unit)+1] == unit) :\n",
    "                    if desc[endpt+1:endpt+len(unit)+1] == unit:\n",
    "                        money = money + ' '+unit\n",
    "                    else:\n",
    "                        money = money + unit\n",
    "        \n",
    "        money = money.replace('MillionM', 'Million')\n",
    "        money = money.replace('Million M', 'Million')\n",
    "        money_array.append(money)\n",
    "    \n",
    "    if len(money_array)==1:        # Only one element - to be stored directly\n",
    "        return money_array[0]\n",
    "    elif len(money_array)==0:      # None exist\n",
    "        return None\n",
    "    else:\n",
    "        return money_array"
   ]
  },
  {
   "cell_type": "markdown",
   "metadata": {},
   "source": [
    "# Actual practice"
   ]
  },
  {
   "cell_type": "code",
   "execution_count": 9,
   "metadata": {},
   "outputs": [
    {
     "name": "stdout",
     "output_type": "stream",
     "text": [
      "2019 completed\n",
      "2020 completed\n"
     ]
    }
   ],
   "source": [
    "import datetime\n",
    "current_year = datetime.datetime.now().year\n",
    "\n",
    "\n",
    "#for year in range(2019, current_year+1):\n",
    "\n",
    "for year in range(current_year, current_year+1):    \n",
    "    filename = 'OIG_HHS_Scrape_' + str(year)+'_cleaned'\n",
    "    df = pandas.read_csv('Cleaned/Intermediate/'+filename + '.csv') \n",
    "    \n",
    "    #From description\n",
    "    df['Description_Location'] = df['description'].apply(lambda x:  simple_location_extract(x) if  (type(x)==str) &  (len(str(x))>0) else x)\n",
    "    #df['Description_Places'] = df['description'].apply(lambda x:  geo_places_extract(x) if  (type(x)==str) &  (len(str(x))>0) else x)\n",
    "    #df['Descrption_Regions'] = df['description'].apply(lambda x:  geo_regions_extract(x) if  (type(x)==str) &  (len(str(x))>0) else x)\n",
    "    #df['Description_Cities'] = df['description'].apply(lambda x:  geo_cities_extract(x) if  (type(x)==str) &  (len(str(x))>0) else x)\n",
    "    df['Description_Money_involved'] = df['description'].apply(lambda x:  money_involved(x) if  (type(x)==str) &  (len(str(x))>0) else x)\n",
    "    \n",
    "    \n",
    "    #From title\n",
    "    df['Heading_Location'] = df['heading'].apply(lambda x:  simple_location_extract(x) if  (type(x)==str) &  (len(str(x))>0) else x)\n",
    "    #df['Heading_Places'] = df['heading'].apply(lambda x:  geo_places_extract(x) if  (type(x)==str) &  (len(str(x))>0) else x)\n",
    "    #df['Heading_Regions'] = df['heading'].apply(lambda x:  geo_regions_extract(x) if  (type(x)==str) &  (len(str(x))>0) else x)\n",
    "    #df['Heading_Cities'] = df['heading'].apply(lambda x:  geo_cities_extract(x) if  (type(x)==str) &  (len(str(x))>0) else x)\n",
    "    df['Heading_Money_involved'] = df['heading'].apply(lambda x:  money_involved(x) if  (type(x)==str) &  (len(str(x))>0) else x)\n",
    "    \n",
    "    \n",
    "    #Test hyperlink\n",
    "    df['hyperlink_valid'] = df['hyperlink'].apply(lambda x:  test_hyperlink(x) if  (type(x)==str) &  (len(str(x))>0) else -999)\n",
    "\n",
    "    \n",
    "    #df.to_excel('Cleaned/' + filename +'_v2.xlsx', sheet_name='Sheet1')\n",
    "    df.to_excel('Cleaned/' + filename +'_v2.xlsx', sheet_name='Sheet1', index = False)\n",
    "    print(str(year)+' completed')\n",
    "    "
   ]
  }
 ],
 "metadata": {
  "kernelspec": {
   "display_name": "Python 3",
   "language": "python",
   "name": "python3"
  },
  "language_info": {
   "codemirror_mode": {
    "name": "ipython",
    "version": 3
   },
   "file_extension": ".py",
   "mimetype": "text/x-python",
   "name": "python",
   "nbconvert_exporter": "python",
   "pygments_lexer": "ipython3",
   "version": "3.6.4"
  }
 },
 "nbformat": 4,
 "nbformat_minor": 2
}
